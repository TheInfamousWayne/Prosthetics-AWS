{
 "cells": [
  {
   "cell_type": "code",
   "execution_count": 1,
   "metadata": {},
   "outputs": [],
   "source": [
    "import opensim as osim\n",
    "from osim.env import ProstheticsEnv\n",
    "import pandas as pd\n",
    "import numpy as np\n",
    "import gc\n",
    "gc.enable()"
   ]
  },
  {
   "cell_type": "code",
   "execution_count": 2,
   "metadata": {},
   "outputs": [],
   "source": [
    "#import nbimporter\n",
    "from ddpg import *"
   ]
  },
  {
   "cell_type": "code",
   "execution_count": 3,
   "metadata": {},
   "outputs": [],
   "source": [
    "EPISODES = 20001\n",
    "TEST = 100"
   ]
  },
  {
   "cell_type": "code",
   "execution_count": 35,
   "metadata": {},
   "outputs": [],
   "source": [
    "def ob_dict_to_state(state_desc):\n",
    "\n",
    "    res=[]\n",
    "\n",
    "    res += [state_desc[\"target_vel\"][0]- state_desc[\"body_vel\"]['pelvis'][0]]\n",
    "    res += [state_desc[\"target_vel\"][2]- state_desc[\"body_vel\"]['pelvis'][2]]\n",
    "\n",
    "    res += [state_desc[\"target_vel\"][0]]\n",
    "    res += [state_desc[\"target_vel\"][2]]\n",
    "\n",
    "    pelvis_x_pos = state_desc[\"body_pos\"][\"pelvis\"][0]\n",
    "    pelvis_y_pos = state_desc[\"body_pos\"][\"pelvis\"][1]\n",
    "    pelvis_z_pos = state_desc[\"body_pos\"][\"pelvis\"][2]\n",
    "\n",
    "    for body_part in [\"pelvis\"]:\n",
    "        res += state_desc[\"body_pos_rot\"][body_part][:3] #ground_pelvis/pelvis_tilt/value in states file\n",
    "        res += state_desc[\"body_vel_rot\"][body_part][:3]\n",
    "        res += state_desc[\"body_acc_rot\"][body_part][:3]#2\n",
    "        res += state_desc[\"body_acc\"][body_part][0:3]\n",
    "\n",
    "        #### for cyclical state, need to change pelvis_x_pos\n",
    "        # res += [pelvis_x_pos]\n",
    "        #####\n",
    "\n",
    "        res += [state_desc[\"body_vel\"][body_part][0]]\n",
    "        res += [pelvis_y_pos]\n",
    "        res += [state_desc[\"body_vel\"][body_part][1]]\n",
    "        res += [state_desc[\"body_vel\"][body_part][2]]\n",
    "\n",
    "    for body_part in [\"head\",\"torso\", \"pros_tibia_r\",\"pros_foot_r\",\"toes_l\",\"talus_l\"]:\n",
    "        res += state_desc[\"body_pos_rot\"][body_part][:3] #ground_pelvis/pelvis_tilt/value in states file\n",
    "        res += state_desc[\"body_vel_rot\"][body_part][:3]\n",
    "        res += state_desc[\"body_acc_rot\"][body_part][:3]#2\n",
    "        res += state_desc[\"body_acc\"][body_part][:3]\n",
    "        res += [state_desc[\"body_pos\"][body_part][0] - pelvis_x_pos]\n",
    "        res += [state_desc[\"body_vel\"][body_part][0]]\n",
    "        res += [state_desc[\"body_pos\"][body_part][1] - pelvis_y_pos]\n",
    "        res += [state_desc[\"body_vel\"][body_part][1]]\n",
    "        res += [state_desc[\"body_pos\"][body_part][2] - pelvis_z_pos]\n",
    "        res += [state_desc[\"body_vel\"][body_part][2]]\n",
    "\n",
    "    #Only hip has more than one dof, but here last position is locked so not worth including \n",
    "\n",
    "    for joint in [\"hip_r\",\"knee_r\",\"hip_l\",\"knee_l\",\"ankle_l\"]: #removed back\n",
    "        res += [state_desc[\"joint_pos\"][joint][0] - pelvis_x_pos]\n",
    "        #res += [state_desc[\"joint_pos\"][joint][1] - pelvis_y_pos]\n",
    "        #res += [state_desc[\"joint_pos\"][joint][2] - pelvis_z_pos]\n",
    "        res += state_desc[\"joint_pos\"][joint][1:2]\n",
    "        res += state_desc[\"joint_vel\"][joint][:2]\n",
    "        res += state_desc[\"joint_acc\"][joint][:2] \n",
    "\n",
    "    mus_list = ['abd_r', 'add_r', 'hamstrings_r', 'bifemsh_r', 'glut_max_r', 'iliopsoas_r', 'rect_fem_r', 'vasti_r', 'abd_l', 'add_l', 'hamstrings_l', 'bifemsh_l', 'glut_max_l', 'iliopsoas_l', 'rect_fem_l', 'vasti_l', 'gastroc_l', 'soleus_l', 'tib_ant_l']\n",
    "    for muscle in mus_list:#state_desc[\"muscles\"].keys():\n",
    "        res += [state_desc[\"muscles\"][muscle][\"activation\"]]\n",
    "        res += [state_desc[\"muscles\"][muscle][\"fiber_length\"]]\n",
    "        res += [state_desc[\"muscles\"][muscle][\"fiber_velocity\"]]\n",
    "\n",
    "        # Add in muscle forces\n",
    "        # res += state_desc['forces'][muscle]\n",
    "    res += state_desc[\"forces\"][\"ankleSpring\"]\n",
    "\n",
    "    for foot in ['pros_foot_r_0','foot_l']:\n",
    "        res += state_desc['forces'][foot][:6]\n",
    "\n",
    "    cm_pos_x = [state_desc[\"misc\"][\"mass_center_pos\"][0] - pelvis_x_pos]\n",
    "    cm_pos_y = [state_desc[\"misc\"][\"mass_center_pos\"][1] - pelvis_y_pos]\n",
    "    cm_pos_z = [state_desc[\"misc\"][\"mass_center_pos\"][2] - pelvis_z_pos]\n",
    "    res = res + cm_pos_x + cm_pos_y + state_desc[\"misc\"][\"mass_center_vel\"] + state_desc[\"misc\"][\"mass_center_acc\"]\n",
    "\n",
    "    head_behind_pen = min(0,state_desc[\"body_pos\"][\"head\"][0] - pelvis_x_pos) * 0.5\n",
    "#     str_leg_pen = \n",
    "    \n",
    "    \n",
    "    return res, head_behind_pen"
   ]
  },
  {
   "cell_type": "code",
   "execution_count": 1,
   "metadata": {},
   "outputs": [],
   "source": [
    "def main():\n",
    "    env = ProstheticsEnv(visualize=False, difficulty=1)\n",
    "    state_dim,_ = ob_dict_to_state(env.reset(project=False))\n",
    "    state_dim = len(state_dim)\n",
    "    agent = DDPG(env, state_dim)\n",
    "    #env.monitor.start('experiments/' + ENV_NAME,force=True)\n",
    "    \n",
    "    # Playing Episodes\n",
    "    try:\n",
    "        train_rewards = list(np.load(\"train_rewards.npy\"))\n",
    "        avg_rewards = list(np.load(\"average_rewards.npy\"))\n",
    "        penalties = list(np.load(\"penalty.npy\"))\n",
    "    except:\n",
    "        train_rewards = []\n",
    "        avg_rewards = []\n",
    "        penalties = []\n",
    "\n",
    "    for episode in range(EPISODES):\n",
    "        state = env.reset(project=False)\n",
    "        state,_ = ob_dict_to_state(state)\n",
    "        #print \"episode:\",episode\n",
    "        # Train\n",
    "        total_reward = 0\n",
    "        total_penalty = 0\n",
    "        for step in range(env.spec.timestep_limit):\n",
    "            action = agent.noise_action(state)\n",
    "            next_state,reward,done,_ = env.step(action,project=False)\n",
    "            next_state,penalty = ob_dict_to_state(next_state)\n",
    "            agent.perceive(state,action,reward+penalty,next_state,done)\n",
    "            state = next_state\n",
    "            total_reward += reward\n",
    "            total_penalty += penalty\n",
    "            if done:\n",
    "                break\n",
    "        train_rewards.append(total_reward)\n",
    "        penalties.append(total_penalty)\n",
    "                \n",
    "        # Testing:\n",
    "        if episode % 100 == 0 and episode > 100:\n",
    "            total_reward = 0\n",
    "            # Running episodes\n",
    "            for i in range(TEST):\n",
    "                state = env.reset(project=False)\n",
    "                state,_ = ob_dict_to_state(state)\n",
    "                for j in range(env.spec.timestep_limit):\n",
    "                    #env.render()\n",
    "                    action = agent.action(state) # direct action for test\n",
    "                    state,reward,done,_ = env.step(action,project=False)\n",
    "                    state,_ = ob_dict_to_state(state)\n",
    "                    total_reward += reward\n",
    "                    if done:\n",
    "                        break\n",
    "            ave_reward = float(total_reward)/TEST\n",
    "            avg_rewards.append(ave_reward)\n",
    "            print ('episode: ',episode,'Evaluation Average Reward:',ave_reward)\n",
    "        \n",
    "        if episode % 100 == 0:\n",
    "            print(\"Saving Rewards. Episode: \", episode)\n",
    "            np.save(\"train_rewards.npy\", train_rewards)\n",
    "            np.save(\"average_rewards.npy\", avg_rewards)\n",
    "            \n",
    "        if episode % 100 == 0:\n",
    "            print(\"Saving Memory. Episode: \", episode)\n",
    "            agent.replay_buffer.save()\n",
    "            \n",
    "    # Closing the monitor\n",
    "    #env.monitor.close()\n",
    "\n"
   ]
  },
  {
   "cell_type": "code",
   "execution_count": null,
   "metadata": {},
   "outputs": [],
   "source": [
    "if __name__ == '__main__':\n",
    "    main()\n",
    "    print(\"End Training\")"
   ]
  },
  {
   "cell_type": "code",
   "execution_count": null,
   "metadata": {},
   "outputs": [],
   "source": [
    "#len(ob_dict_to_state(env.reset(project=False)))"
   ]
  },
  {
   "cell_type": "code",
   "execution_count": 37,
   "metadata": {},
   "outputs": [],
   "source": [
    "#env.observation_space.shape"
   ]
  },
  {
   "cell_type": "code",
   "execution_count": 38,
   "metadata": {
    "scrolled": false
   },
   "outputs": [],
   "source": [
    "# st = env.reset(project=False)"
   ]
  },
  {
   "cell_type": "code",
   "execution_count": 39,
   "metadata": {},
   "outputs": [],
   "source": [
    "# converted = ob_dict_to_state(st)"
   ]
  },
  {
   "cell_type": "code",
   "execution_count": 40,
   "metadata": {},
   "outputs": [],
   "source": [
    "# converted"
   ]
  },
  {
   "cell_type": "code",
   "execution_count": 41,
   "metadata": {},
   "outputs": [],
   "source": [
    "# st[\"target_vel\"]"
   ]
  },
  {
   "cell_type": "code",
   "execution_count": 42,
   "metadata": {},
   "outputs": [],
   "source": [
    "# st[\"body_pos\"][\"head\"][0:]"
   ]
  },
  {
   "cell_type": "code",
   "execution_count": 44,
   "metadata": {},
   "outputs": [],
   "source": [
    "# st[\"joint_pos\"][\"hip_r\"][:2]"
   ]
  },
  {
   "cell_type": "code",
   "execution_count": 45,
   "metadata": {},
   "outputs": [],
   "source": [
    "# st[\"body_pos\"][\"head\"][0]"
   ]
  },
  {
   "cell_type": "code",
   "execution_count": 46,
   "metadata": {},
   "outputs": [],
   "source": [
    "# st[\"body_pos\"][\"pelvis\"][0]"
   ]
  },
  {
   "cell_type": "code",
   "execution_count": 50,
   "metadata": {},
   "outputs": [
    {
     "data": {
      "text/plain": [
       "3.1388141643153045"
      ]
     },
     "execution_count": 50,
     "metadata": {},
     "output_type": "execute_result"
    }
   ],
   "source": [
    "# (st[\"body_pos\"][\"head\"][0] - st[\"body_pos\"][\"pelvis\"][0]) * 2"
   ]
  },
  {
   "cell_type": "code",
   "execution_count": 2,
   "metadata": {},
   "outputs": [],
   "source": [
    "# xxxx = st[\"joint_pos\"][\"ankle_l\"][1:2]"
   ]
  },
  {
   "cell_type": "code",
   "execution_count": 3,
   "metadata": {},
   "outputs": [],
   "source": [
    "# aa = [1,2]"
   ]
  },
  {
   "cell_type": "code",
   "execution_count": 4,
   "metadata": {},
   "outputs": [],
   "source": [
    "# aa += xxxx"
   ]
  },
  {
   "cell_type": "code",
   "execution_count": 5,
   "metadata": {},
   "outputs": [],
   "source": [
    "# aa"
   ]
  },
  {
   "cell_type": "code",
   "execution_count": null,
   "metadata": {},
   "outputs": [],
   "source": []
  }
 ],
 "metadata": {
  "kernelspec": {
   "display_name": "opensim-rl",
   "language": "python",
   "name": "opensim-rl"
  },
  "language_info": {
   "codemirror_mode": {
    "name": "ipython",
    "version": 3
   },
   "file_extension": ".py",
   "mimetype": "text/x-python",
   "name": "python",
   "nbconvert_exporter": "python",
   "pygments_lexer": "ipython3",
   "version": "3.6.1"
  }
 },
 "nbformat": 4,
 "nbformat_minor": 2
}
